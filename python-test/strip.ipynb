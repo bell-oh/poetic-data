{
 "cells": [
  {
   "cell_type": "code",
   "execution_count": 6,
   "metadata": {},
   "outputs": [
    {
     "name": "stdout",
     "output_type": "stream",
     "text": [
      "woah\n"
     ]
    }
   ],
   "source": [
    "word1 = \"omg\"\n",
    "\n",
    "def stripper(word):\n",
    "    chars = []\n",
    "    final_word = \"\"\n",
    "    for x in range(len(word)):\n",
    "        chars.append(word[x])\n",
    "    for c in chars:\n",
    "        if c.isalnum():\n",
    "            final_word += c\n",
    "    print(final_word)\n",
    "\n",
    "\n",
    "stripper(\"!woah,,,\")\n",
    "    "
   ]
  }
 ],
 "metadata": {
  "kernelspec": {
   "display_name": "Python 3",
   "language": "python",
   "name": "python3"
  },
  "language_info": {
   "codemirror_mode": {
    "name": "ipython",
    "version": 3
   },
   "file_extension": ".py",
   "mimetype": "text/x-python",
   "name": "python",
   "nbconvert_exporter": "python",
   "pygments_lexer": "ipython3",
   "version": "3.11.0"
  }
 },
 "nbformat": 4,
 "nbformat_minor": 2
}
